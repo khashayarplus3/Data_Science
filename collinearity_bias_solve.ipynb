{
    "metadata": {
        "kernelspec": {
            "name": "python3",
            "display_name": "Python 3 (ipykernel)",
            "language": "python"
        }
    },
    "nbformat": 4,
    "nbformat_minor": 4,
    "cells": [
        {
            "cell_type": "code",
            "execution_count": 1,
            "metadata": {},
            "outputs": [],
            "source": [
                "# Import necessary libraries\n",
                "import numpy as np\n",
                "import pandas as pd\n",
                "import seaborn as sns \n",
                "from pprint import pprint\n",
                "import matplotlib.pyplot as plt\n",
                "from sklearn.linear_model import LinearRegression\n",
                "%matplotlib inline\n",
                ""
            ]
        },
        {
            "cell_type": "code",
            "execution_count": 2,
            "metadata": {},
            "outputs": [],
            "source": [
                "# Read the file named \"colinearity.csv\" into a Pandas dataframe\n",
                "df = pd.read_csv(\"colinearity.csv\")\n",
                ""
            ]
        },
        {
            "cell_type": "code",
            "execution_count": 3,
            "metadata": {},
            "outputs": [
                {
                    "data": {
                        "text/html": "\u003cdiv\u003e\n\u003cstyle scoped\u003e\n    .dataframe tbody tr th:only-of-type {\n        vertical-align: middle;\n    }\n\n    .dataframe tbody tr th {\n        vertical-align: top;\n    }\n\n    .dataframe thead th {\n        text-align: right;\n    }\n\u003c/style\u003e\n\u003ctable border=\"1\" class=\"dataframe\"\u003e\n  \u003cthead\u003e\n    \u003ctr style=\"text-align: right;\"\u003e\n      \u003cth\u003e\u003c/th\u003e\n      \u003cth\u003ex1\u003c/th\u003e\n      \u003cth\u003ex2\u003c/th\u003e\n      \u003cth\u003ex3\u003c/th\u003e\n      \u003cth\u003ex4\u003c/th\u003e\n      \u003cth\u003ey\u003c/th\u003e\n    \u003c/tr\u003e\n  \u003c/thead\u003e\n  \u003ctbody\u003e\n    \u003ctr\u003e\n      \u003cth\u003e0\u003c/th\u003e\n      \u003ctd\u003e-1.109823\u003c/td\u003e\n      \u003ctd\u003e-1.172554\u003c/td\u003e\n      \u003ctd\u003e-0.897949\u003c/td\u003e\n      \u003ctd\u003e-6.572526\u003c/td\u003e\n      \u003ctd\u003e-158.193913\u003c/td\u003e\n    \u003c/tr\u003e\n    \u003ctr\u003e\n      \u003cth\u003e1\u003c/th\u003e\n      \u003ctd\u003e0.288381\u003c/td\u003e\n      \u003ctd\u003e0.360526\u003c/td\u003e\n      \u003ctd\u003e2.298690\u003c/td\u003e\n      \u003ctd\u003e3.884887\u003c/td\u003e\n      \u003ctd\u003e198.312926\u003c/td\u003e\n    \u003c/tr\u003e\n    \u003ctr\u003e\n      \u003cth\u003e2\u003c/th\u003e\n      \u003ctd\u003e-1.059194\u003c/td\u003e\n      \u003ctd\u003e0.833067\u003c/td\u003e\n      \u003ctd\u003e0.285517\u003c/td\u003e\n      \u003ctd\u003e-1.225931\u003c/td\u003e\n      \u003ctd\u003e12.152087\u003c/td\u003e\n    \u003c/tr\u003e\n    \u003ctr\u003e\n      \u003cth\u003e3\u003c/th\u003e\n      \u003ctd\u003e0.226017\u003c/td\u003e\n      \u003ctd\u003e1.979367\u003c/td\u003e\n      \u003ctd\u003e0.744038\u003c/td\u003e\n      \u003ctd\u003e5.380823\u003c/td\u003e\n      \u003ctd\u003e190.281938\u003c/td\u003e\n    \u003c/tr\u003e\n    \u003ctr\u003e\n      \u003cth\u003e4\u003c/th\u003e\n      \u003ctd\u003e0.664165\u003c/td\u003e\n      \u003ctd\u003e-1.373739\u003c/td\u003e\n      \u003ctd\u003e0.317570\u003c/td\u003e\n      \u003ctd\u003e-0.437413\u003c/td\u003e\n      \u003ctd\u003e-72.681681\u003c/td\u003e\n    \u003c/tr\u003e\n  \u003c/tbody\u003e\n\u003c/table\u003e\n\u003c/div\u003e",
                        "text/plain": "         x1        x2        x3        x4           y\n0 -1.109823 -1.172554 -0.897949 -6.572526 -158.193913\n1  0.288381  0.360526  2.298690  3.884887  198.312926\n2 -1.059194  0.833067  0.285517 -1.225931   12.152087\n3  0.226017  1.979367  0.744038  5.380823  190.281938\n4  0.664165 -1.373739  0.317570 -0.437413  -72.681681"
                    },
                    "execution_count": 3,
                    "metadata": {},
                    "output_type": "execute_result"
                }
            ],
            "source": [
                "# Take a quick look at the dataset\n",
                "df.head()\n",
                ""
            ]
        },
        {
            "attachments": {},
            "cell_type": "markdown",
            "metadata": {},
            "source": [
                "#### Creation of Linear Regression Objects"
            ]
        },
        {
            "cell_type": "code",
            "execution_count": 4,
            "metadata": {},
            "outputs": [],
            "source": [
                "# Choose all the predictors as the variable 'X' (note capitalization of X for multiple features)\n",
                "X = df.drop(['y'],axis=1)\n",
                "\n",
                "# Choose the response variable 'y' \n",
                "y = df['y']\n",
                ""
            ]
        },
        {
            "cell_type": "code",
            "execution_count": 5,
            "metadata": {},
            "outputs": [],
            "source": [
                "### edTest(test_coeff) ###\n",
                "\n",
                "# Initialize a list to store the beta values for each linear regression model\n",
                "linear_coef = []\n",
                "\n",
                "# Loop over all the predictors\n",
                "# In each loop \"i\" holds the name of the predictor \n",
                "for i in X:\n",
                "    \n",
                "    # Set the current predictor as the variable x\n",
                "    x = df[[i]]\n",
                "\n",
                "    # Create a linear regression object\n",
                "    linreg = LinearRegression()\n",
                "\n",
                "    # Fit the model with training data \n",
                "    # Remember to choose only one column at a time i.e. given by x (not X)\n",
                "    linreg.fit(x,y)\n",
                "    \n",
                "    # Add the coefficient value of the model to the list\n",
                "    linear_coef.append(linreg.coef_)\n",
                ""
            ]
        },
        {
            "attachments": {},
            "cell_type": "markdown",
            "metadata": {},
            "source": [
                "### Multi-Linear Regression using all variables"
            ]
        },
        {
            "cell_type": "code",
            "execution_count": 6,
            "metadata": {},
            "outputs": [],
            "source": [
                "### edTest(test_multi_coeff) ###\n",
                "\n",
                "# Perform multi-linear regression with all predictors\n",
                "multi_linear = LinearRegression()\n",
                "\n",
                "# Fit the multi-linear regression on all features of the entire data\n",
                "multi_linear.fit(X,y)\n",
                "\n",
                "# Get the coefficients (plural) of the model\n",
                "multi_coef = multi_linear.coef_\n",
                ""
            ]
        },
        {
            "attachments": {},
            "cell_type": "markdown",
            "metadata": {},
            "source": [
                "#### Printing the individual $\\beta$ values"
            ]
        },
        {
            "cell_type": "code",
            "execution_count": 7,
            "metadata": {},
            "outputs": [
                {
                    "name": "stdout",
                    "output_type": "stream",
                    "text": "By simple(one variable) linear regression for each variable:\n'Value of beta1 = 34.73'\n'Value of beta2 = 68.63'\n'Value of beta3 = 59.40'\n'Value of beta4 = 20.92'\n"
                }
            ],
            "source": [
                "# Helper code to see the beta values of the linear regression models\n",
                "\n",
                "print('By simple(one variable) linear regression for each variable:', sep = '\\n')\n",
                "\n",
                "for i in range(4):\n",
                "    pprint(f'Value of beta{i+1} = {linear_coef[i][0]:.2f}')\n",
                ""
            ]
        },
        {
            "cell_type": "code",
            "execution_count": 8,
            "metadata": {},
            "outputs": [
                {
                    "name": "stdout",
                    "output_type": "stream",
                    "text": "By multi-Linear regression on all variables\n'Value of beta1 = -24.61'\n'Value of beta2 = 27.72'\n'Value of beta3 = 37.67'\n'Value of beta4 = 19.27'\n"
                }
            ],
            "source": [
                "# Helper code to compare with the values from the multi-linear regression\n",
                "print('By multi-Linear regression on all variables')\n",
                "for i in range(4):\n",
                "    pprint(f'Value of beta{i+1} = {round(multi_coef[i],2)}')\n",
                "    "
            ]
        },
        {
            "attachments": {},
            "cell_type": "markdown",
            "metadata": {},
            "source": [
                "⏸ Why do you think the $\\beta$ values are different in the two cases?\n",
                "\n",
                "#### A. Because the random seed selected is not as random as we would imagine.\n",
                "#### B. Because of collinearity between $\\beta_1$ and $\\beta_4$\n",
                "#### C. Because multi-linear regression is not a stable model\n",
                "#### D. Because of the measurement error in the data\n",
                ""
            ]
        },
        {
            "cell_type": "code",
            "execution_count": 10,
            "metadata": {},
            "outputs": [],
            "source": [
                "### edTest(test_chow1) ###\n",
                "# Submit an answer choice as a string below \n",
                "# (Eg. if you choose option C, put 'C')\n",
                "answer1 = 'B'\n",
                ""
            ]
        },
        {
            "cell_type": "code",
            "execution_count": 17,
            "metadata": {},
            "outputs": [
                {
                    "data": {
                        "image/png": "[encoded data removed]",
                        "text/plain": "\u003cFigure size 640x480 with 2 Axes\u003e"
                    },
                    "metadata": {},
                    "output_type": "display_data"
                }
            ],
            "source": [
                "# Helper code to visualize the heatmap of the covariance matrix\n",
                "corrMatrix = df[['x1','x2','x3','x4']].corr() \n",
                "sns.heatmap(corrMatrix, annot=True) \n",
                "plt.show()\n",
                ""
            ]
        },
        {
            "cell_type": "code",
            "execution_count": 0,
            "metadata": {},
            "outputs": [],
            "source": [
                ""
            ]
        }
    ]
}
